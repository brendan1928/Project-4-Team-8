{
 "cells": [
  {
   "cell_type": "code",
   "execution_count": 1,
   "metadata": {},
   "outputs": [],
   "source": [
    "from sklearn.ensemble import RandomForestClassifier,GradientBoostingClassifier\n",
    "from sklearn.metrics import accuracy_score,confusion_matrix, classification_report\n",
    "from sklearn.model_selection import train_test_split\n",
    "from sklearn.neighbors import KNeighborsClassifier\n",
    "from sklearn.datasets import make_classification\n",
    "from sklearn.preprocessing import LabelEncoder\n",
    "from sklearn.naive_bayes import MultinomialNB\n",
    "from sklearn.svm import SVC\n",
    "import pandas as pd\n",
    "import numpy as np\n",
    "import warnings\n",
    "import pickle\n",
    "import os\n",
    "import matplotlib.pyplot as plt\n",
    "import seaborn as sns\n",
    "\n",
    "\n",
    "warnings.filterwarnings('ignore')\n",
    "pd.set_option('display.max_columns', None)"
   ]
  },
  {
   "cell_type": "code",
   "execution_count": 2,
   "metadata": {},
   "outputs": [],
   "source": [
    "import pandas as pd\n",
    "import numpy as np\n",
    "from sklearn.model_selection import train_test_split, cross_val_score, GridSearchCV\n",
    "from sklearn.preprocessing import StandardScaler, LabelEncoder\n",
    "from sklearn.ensemble import RandomForestClassifier\n",
    "from sklearn.metrics import classification_report, confusion_matrix, accuracy_score\n",
    "from sklearn.feature_selection import RFE"
   ]
  },
  {
   "cell_type": "code",
   "execution_count": 10,
   "metadata": {},
   "outputs": [
    {
     "data": {
      "text/html": [
       "<div>\n",
       "<style scoped>\n",
       "    .dataframe tbody tr th:only-of-type {\n",
       "        vertical-align: middle;\n",
       "    }\n",
       "\n",
       "    .dataframe tbody tr th {\n",
       "        vertical-align: top;\n",
       "    }\n",
       "\n",
       "    .dataframe thead th {\n",
       "        text-align: right;\n",
       "    }\n",
       "</style>\n",
       "<table border=\"1\" class=\"dataframe\">\n",
       "  <thead>\n",
       "    <tr style=\"text-align: right;\">\n",
       "      <th></th>\n",
       "      <th>disease</th>\n",
       "      <th>workout</th>\n",
       "    </tr>\n",
       "  </thead>\n",
       "  <tbody>\n",
       "    <tr>\n",
       "      <th>0</th>\n",
       "      <td>Fungal infection</td>\n",
       "      <td>Avoid sugary foods</td>\n",
       "    </tr>\n",
       "    <tr>\n",
       "      <th>1</th>\n",
       "      <td>Fungal infection</td>\n",
       "      <td>Consume probiotics</td>\n",
       "    </tr>\n",
       "    <tr>\n",
       "      <th>2</th>\n",
       "      <td>Fungal infection</td>\n",
       "      <td>Increase intake of garlic</td>\n",
       "    </tr>\n",
       "    <tr>\n",
       "      <th>3</th>\n",
       "      <td>Fungal infection</td>\n",
       "      <td>Include yogurt in diet</td>\n",
       "    </tr>\n",
       "    <tr>\n",
       "      <th>4</th>\n",
       "      <td>Fungal infection</td>\n",
       "      <td>Limit processed foods</td>\n",
       "    </tr>\n",
       "    <tr>\n",
       "      <th>...</th>\n",
       "      <td>...</td>\n",
       "      <td>...</td>\n",
       "    </tr>\n",
       "    <tr>\n",
       "      <th>405</th>\n",
       "      <td>Impetigo</td>\n",
       "      <td>Consult a healthcare professional</td>\n",
       "    </tr>\n",
       "    <tr>\n",
       "      <th>406</th>\n",
       "      <td>Impetigo</td>\n",
       "      <td>Follow medical recommendations</td>\n",
       "    </tr>\n",
       "    <tr>\n",
       "      <th>407</th>\n",
       "      <td>Impetigo</td>\n",
       "      <td>Avoid scratching</td>\n",
       "    </tr>\n",
       "    <tr>\n",
       "      <th>408</th>\n",
       "      <td>Impetigo</td>\n",
       "      <td>Take prescribed antibiotics</td>\n",
       "    </tr>\n",
       "    <tr>\n",
       "      <th>409</th>\n",
       "      <td>Impetigo</td>\n",
       "      <td>Practice wound care</td>\n",
       "    </tr>\n",
       "  </tbody>\n",
       "</table>\n",
       "<p>410 rows × 2 columns</p>\n",
       "</div>"
      ],
      "text/plain": [
       "              disease                            workout\n",
       "0    Fungal infection                 Avoid sugary foods\n",
       "1    Fungal infection                 Consume probiotics\n",
       "2    Fungal infection          Increase intake of garlic\n",
       "3    Fungal infection             Include yogurt in diet\n",
       "4    Fungal infection              Limit processed foods\n",
       "..                ...                                ...\n",
       "405          Impetigo  Consult a healthcare professional\n",
       "406          Impetigo     Follow medical recommendations\n",
       "407          Impetigo                   Avoid scratching\n",
       "408          Impetigo        Take prescribed antibiotics\n",
       "409          Impetigo                Practice wound care\n",
       "\n",
       "[410 rows x 2 columns]"
      ]
     },
     "execution_count": 10,
     "metadata": {},
     "output_type": "execute_result"
    }
   ],
   "source": [
    "description= pd.read_csv('archive/description.csv')\n",
    "diets= pd.read_csv('archive/diets.csv')\n",
    "\n",
    "medications= pd.read_csv('archive/medications.csv')\n",
    "precautions= pd.read_csv('archive/precautions_df.csv', index_col= 0)\n",
    "Symptom_severity_df= pd.read_csv('archive/Symptom-severity.csv')\n",
    "\n",
    "sym_des= pd.read_csv('archive/symtoms_df.csv', index_col= 0)\n",
    "\n",
    "\n",
    "df= pd.read_csv('archive/Training.csv')\n",
    "workout=pd.read_csv('archive/workout_df.csv').iloc[:, 2:]\n"
   ]
  },
  {
   "cell_type": "code",
   "execution_count": 4,
   "metadata": {},
   "outputs": [
    {
     "name": "stdout",
     "output_type": "stream",
     "text": [
      "precautions Dataframe\n",
      " Disease         0\n",
      "Precaution_1    0\n",
      "Precaution_2    0\n",
      "Precaution_3    0\n",
      "Precaution_4    0\n",
      "dtype: int64\n",
      "\n",
      "Symptons Dataframe\n",
      " Disease      0\n",
      "Symptom_1    0\n",
      "Symptom_2    0\n",
      "Symptom_3    0\n",
      "Symptom_4    0\n",
      "dtype: int64\n"
     ]
    }
   ],
   "source": [
    "# Eliminating all NaN from the dataset\n",
    "\n",
    "sym_des.dropna(inplace= True)\n",
    "precautions.dropna(inplace= True)\n",
    "\n",
    "print(\"precautions Dataframe\\n\", precautions.isna().sum())\n",
    "print(\"\\nSymptons Dataframe\\n\", sym_des.isna().sum())"
   ]
  },
  {
   "cell_type": "code",
   "execution_count": null,
   "metadata": {},
   "outputs": [],
   "source": [
    "#min/max\n",
    "#count and count uniques \n",
    "#average \n",
    "#outliers\n",
    "#Description \n",
    "#Mean/Mode"
   ]
  },
  {
   "cell_type": "code",
   "execution_count": null,
   "metadata": {},
   "outputs": [],
   "source": [
    "# sys_des. How often does each disease occur and often each often symptons occur.\n",
    "# df optional"
   ]
  }
 ],
 "metadata": {
  "kernelspec": {
   "display_name": "class_feb_2024",
   "language": "python",
   "name": "python3"
  },
  "language_info": {
   "codemirror_mode": {
    "name": "ipython",
    "version": 3
   },
   "file_extension": ".py",
   "mimetype": "text/x-python",
   "name": "python",
   "nbconvert_exporter": "python",
   "pygments_lexer": "ipython3",
   "version": "3.8.19"
  }
 },
 "nbformat": 4,
 "nbformat_minor": 2
}
